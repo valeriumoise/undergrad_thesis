{
 "cells": [
  {
   "cell_type": "code",
   "execution_count": 117,
   "metadata": {
    "collapsed": true,
    "pycharm": {
     "is_executing": false
    }
   },
   "outputs": [],
   "source": [
    "\n",
    "import itertools\n",
    "import json\n",
    "import os\n",
    "import random\n",
    "from pathlib import Path\n",
    "\n",
    "import matplotlib.pyplot as plt\n",
    "import numpy as np\n",
    "from matplotlib import colors\n",
    "\n"
   ]
  },
  {
   "cell_type": "code",
   "execution_count": 19,
   "outputs": [],
   "source": [
    "data_path = Path('input')\n",
    "training_path = data_path / 'training'\n",
    "evaluation_path = data_path / 'evaluation'\n",
    "test_path = data_path / 'test'\n",
    "\n",
    "training_tasks = sorted(os.listdir(training_path))\n",
    "evaluation_tasks = sorted(os.listdir(evaluation_path))\n",
    "test_tasks = sorted(os.listdir(test_path))\n"
   ],
   "metadata": {
    "collapsed": false,
    "pycharm": {
     "name": "#%%\n",
     "is_executing": false
    }
   }
  },
  {
   "cell_type": "code",
   "execution_count": 20,
   "outputs": [],
   "source": [
    "cmap = colors.ListedColormap(\n",
    "    ['#000000', '#0074D9','#FF4136','#2ECC40','#FFDC00',\n",
    "     '#AAAAAA', '#F012BE', '#FF851B', '#7FDBFF', '#870C25'])\n",
    "norm = colors.Normalize(vmin=0, vmax=9)\n",
    "# 0:black, 1:blue, 2:red, 3:greed, 4:yellow,\n",
    "# 5:gray, 6:magenta, 7:orange, 8:sky, 9:brown\n",
    "\n",
    "\n",
    "def plot_task(task):\n",
    "    n = len(task[\"train\"]) + len(task[\"test\"])\n",
    "    fig, axs = plt.subplots(2, n, figsize=(4*n,8), dpi=50)\n",
    "    plt.subplots_adjust(wspace=0, hspace=0)\n",
    "    fig_num = 0\n",
    "    for i, t in enumerate(task[\"train\"]):\n",
    "        t_in, t_out = np.array(t[\"input\"]), np.array(t[\"output\"])\n",
    "        axs[0][fig_num].imshow(t_in, cmap=cmap, norm=norm)\n",
    "        axs[0][fig_num].set_title(f'Train-{i} in')\n",
    "        axs[0][fig_num].set_yticks(list(range(t_in.shape[0])))\n",
    "        axs[0][fig_num].set_xticks(list(range(t_in.shape[1])))\n",
    "        axs[1][fig_num].imshow(t_out, cmap=cmap, norm=norm)\n",
    "        axs[1][fig_num].set_title(f'Train-{i} out')\n",
    "        axs[1][fig_num].set_yticks(list(range(t_out.shape[0])))\n",
    "        axs[1][fig_num].set_xticks(list(range(t_out.shape[1])))\n",
    "        fig_num += 1\n",
    "    for i, t in enumerate(task[\"test\"]):\n",
    "        t_in, t_out = np.array(t[\"input\"]), np.array(t[\"output\"])\n",
    "        axs[0][fig_num].imshow(t_in, cmap=cmap, norm=norm)\n",
    "        axs[0][fig_num].set_title(f'Test-{i} in')\n",
    "        axs[0][fig_num].set_yticks(list(range(t_in.shape[0])))\n",
    "        axs[0][fig_num].set_xticks(list(range(t_in.shape[1])))\n",
    "        axs[1][fig_num].imshow(t_out, cmap=cmap, norm=norm)\n",
    "        axs[1][fig_num].set_title(f'Test-{i} out')\n",
    "        axs[1][fig_num].set_yticks(list(range(t_out.shape[0])))\n",
    "        axs[1][fig_num].set_xticks(list(range(t_out.shape[1])))\n",
    "        fig_num += 1\n",
    "    \n",
    "    plt.tight_layout()\n",
    "    plt.show()"
   ],
   "metadata": {
    "collapsed": false,
    "pycharm": {
     "name": "#%%\n",
     "is_executing": false
    }
   }
  },
  {
   "cell_type": "code",
   "execution_count": 21,
   "outputs": [],
   "source": [
    "def get_data(task_filename):\n",
    "    with open(task_filename, 'r') as f:\n",
    "        task = json.load(f)\n",
    "    return task\n",
    "\n",
    "num2color = [\"black\", \"blue\", \"red\", \"green\", \"yellow\", \"gray\", \"magenta\", \"orange\", \"sky\", \"brown\"]\n",
    "color2num = {c: n for n, c in enumerate(num2color)}"
   ],
   "metadata": {
    "collapsed": false,
    "pycharm": {
     "name": "#%%\n",
     "is_executing": false
    }
   }
  },
  {
   "cell_type": "code",
   "execution_count": 22,
   "outputs": [],
   "source": [
    "def check(task, pred_func):\n",
    "    n = len(task[\"train\"]) + len(task[\"test\"])\n",
    "    fig, axs = plt.subplots(3, n, figsize=(4*n,12), dpi=50)\n",
    "    plt.subplots_adjust(wspace=0.3, hspace=0.3)\n",
    "    fig_num = 0\n",
    "    for i, t in enumerate(task[\"train\"]):\n",
    "        t_in, t_out = np.array(t[\"input\"]), np.array(t[\"output\"])\n",
    "        t_pred = pred_func(t_in)\n",
    "        axs[0][fig_num].imshow(t_in, cmap=cmap, norm=norm)\n",
    "        axs[0][fig_num].set_title(f'Train-{i} in')\n",
    "        axs[0][fig_num].set_yticks(list(range(t_in.shape[0])))\n",
    "        axs[0][fig_num].set_xticks(list(range(t_in.shape[1])))\n",
    "        axs[1][fig_num].imshow(t_out, cmap=cmap, norm=norm)\n",
    "        axs[1][fig_num].set_title(f'Train-{i} out')\n",
    "        axs[1][fig_num].set_yticks(list(range(t_out.shape[0])))\n",
    "        axs[1][fig_num].set_xticks(list(range(t_out.shape[1])))\n",
    "        axs[2][fig_num].imshow(t_pred, cmap=cmap, norm=norm)\n",
    "        axs[2][fig_num].set_title(f'Train-{i} pred')\n",
    "        axs[2][fig_num].set_yticks(list(range(t_pred.shape[0])))\n",
    "        axs[2][fig_num].set_xticks(list(range(t_pred.shape[1])))\n",
    "        fig_num += 1\n",
    "    for i, t in enumerate(task[\"test\"]):\n",
    "        t_in, t_out = np.array(t[\"input\"]), np.array(t[\"output\"])\n",
    "        t_pred = pred_func(t_in)\n",
    "        axs[0][fig_num].imshow(t_in, cmap=cmap, norm=norm)\n",
    "        axs[0][fig_num].set_title(f'Test-{i} in')\n",
    "        axs[0][fig_num].set_yticks(list(range(t_in.shape[0])))\n",
    "        axs[0][fig_num].set_xticks(list(range(t_in.shape[1])))\n",
    "        axs[1][fig_num].imshow(t_out, cmap=cmap, norm=norm)\n",
    "        axs[1][fig_num].set_title(f'Test-{i} out')\n",
    "        axs[1][fig_num].set_yticks(list(range(t_out.shape[0])))\n",
    "        axs[1][fig_num].set_xticks(list(range(t_out.shape[1])))\n",
    "        axs[2][fig_num].imshow(t_pred, cmap=cmap, norm=norm)\n",
    "        axs[2][fig_num].set_title(f'Test-{i} pred')\n",
    "        axs[2][fig_num].set_yticks(list(range(t_pred.shape[0])))\n",
    "        axs[2][fig_num].set_xticks(list(range(t_pred.shape[1])))\n",
    "        fig_num += 1"
   ],
   "metadata": {
    "collapsed": false,
    "pycharm": {
     "name": "#%%\n",
     "is_executing": false
    }
   }
  },
  {
   "cell_type": "code",
   "execution_count": 23,
   "outputs": [
    {
     "data": {
      "text/plain": "<Figure size 800x600 with 12 Axes>",
      "image/png": "[encoded data removed]"
     },
     "metadata": {
      "needs_background": "light"
     },
     "output_type": "display_data"
    }
   ],
   "source": [
    "from itertools import product\n",
    "\n",
    "def in_bounds(x,y,H,W):\n",
    "    return 0 <= x < H and 0 <= y < W\n",
    "\n",
    "def cross_neighbors(x,y,H,W):\n",
    "    d = [0,0,1,-1]\n",
    "    return [(x+dx,y+dy) for (dx, dy) in zip(d,d[::-1]) if in_bounds(x+dx, y+dy, H, W)]\n",
    "\n",
    "def diag_neighbors(x,y,H,W):\n",
    "    return [(x+dx,y+dy) for (dx, dy) in product([1,-1],[1,-1]) if in_bounds(x+dx, y+dy, H, W)]\n",
    "\n",
    "def task_train014(x):\n",
    "    def red_routine(x, y, grid):\n",
    "        H, W = grid.shape\n",
    "        for xx,yy in diag_neighbors(x,y,H,W):\n",
    "            grid[xx,yy] = color2num[\"yellow\"]\n",
    "    \n",
    "    def blue_routine(x, y, grid):\n",
    "        H, W = grid.shape\n",
    "        for xx,yy in cross_neighbors(x,y,H,W):\n",
    "            grid[xx,yy] = color2num[\"orange\"]\n",
    "    \n",
    "    H, W = x.shape\n",
    "    y = x.copy()\n",
    "    red, blue= color2num[\"red\"], color2num[\"blue\"]\n",
    "    for xx in range(H):\n",
    "        for yy in range(W):\n",
    "            if y[xx,yy] == red:\n",
    "                red_routine(xx,yy,y)\n",
    "            if y[xx,yy] == blue:\n",
    "                blue_routine(xx,yy,y)\n",
    "    return y\n",
    "      \n",
    "task = get_data(str(training_path / training_tasks[14]))      \n",
    "check(task, task_train014)"
   ],
   "metadata": {
    "collapsed": false,
    "pycharm": {
     "name": "#%%\n",
     "is_executing": false
    }
   }
  },
  {
   "cell_type": "code",
   "execution_count": 24,
   "outputs": [
    {
     "data": {
      "text/plain": "<Figure size 1000x600 with 15 Axes>",
      "image/png": "[encoded data removed]"
     },
     "metadata": {
      "needs_background": "light"
     },
     "output_type": "display_data"
    }
   ],
   "source": [
    "def task_train014(x):\n",
    "    def color_routine(x,y,grid):\n",
    "        H, W = grid.shape\n",
    "        for xx,yy in diag_neighbors(x,y,H,W):\n",
    "            if grid[xx,yy] != grid[x,y]:\n",
    "                grid[xx,yy] = color2num[\"sky\"]\n",
    "        \n",
    "    aux = np.tile(x, (2,2))\n",
    "    y = aux.copy()\n",
    "    H, W = aux.shape\n",
    "    for xx in range(H):\n",
    "        for yy in range(W):\n",
    "            if aux[xx,yy] != color2num[\"black\"]:\n",
    "                color_routine(xx,yy,y)\n",
    "    return y\n",
    "\n",
    "task = get_data(str(training_path / training_tasks[18]))\n",
    "check(task, task_train014)"
   ],
   "metadata": {
    "collapsed": false,
    "pycharm": {
     "name": "#%%\n",
     "is_executing": false
    }
   }
  },
  {
   "cell_type": "code",
   "execution_count": 25,
   "outputs": [
    {
     "data": {
      "text/plain": "<Figure size 800x600 with 12 Axes>",
      "image/png": "[encoded data removed]"
     },
     "metadata": {
      "needs_background": "light"
     },
     "output_type": "display_data"
    }
   ],
   "source": [
    "def task_train044(x):\n",
    "    H, W = x.shape\n",
    "    y = x.copy()\n",
    "    for xx in range(H):\n",
    "        if y[xx, 0] == y[xx, -1]:\n",
    "            color = y[xx,0]\n",
    "            y[xx] = np.array(color)\n",
    "    return y\n",
    "\n",
    "task = get_data(str(training_path / training_tasks[44]))\n",
    "check(task, task_train044)"
   ],
   "metadata": {
    "collapsed": false,
    "pycharm": {
     "name": "#%%\n",
     "is_executing": false
    }
   }
  },
  {
   "cell_type": "code",
   "execution_count": 26,
   "outputs": [
    {
     "data": {
      "text/plain": "<Figure size 1000x600 with 15 Axes>",
      "image/png": "[encoded data removed]"
     },
     "metadata": {
      "needs_background": "light"
     },
     "output_type": "display_data"
    }
   ],
   "source": [
    "def task_train051(x):\n",
    "    y = np.full(x.shape, color2num[\"black\"])\n",
    "    H, W = x.shape\n",
    "    gray = color2num[\"gray\"]\n",
    "    for xx in range(H):\n",
    "        if len(np.unique(x[xx])) == 1:\n",
    "            y[xx] = gray\n",
    "    return y\n",
    "             \n",
    "task = get_data(str(training_path / training_tasks[51]))\n",
    "check(task, task_train051)"
   ],
   "metadata": {
    "collapsed": false,
    "pycharm": {
     "name": "#%%\n",
     "is_executing": false
    }
   }
  },
  {
   "cell_type": "code",
   "execution_count": 27,
   "outputs": [
    {
     "data": {
      "text/plain": "<Figure size 1200x600 with 18 Axes>",
      "image/png": "[encoded data removed]"
     },
     "metadata": {
      "needs_background": "light"
     },
     "output_type": "display_data"
    }
   ],
   "source": [
    "def task_train052(x):\n",
    "    y = np.roll(x, 1, axis=0)\n",
    "    return y\n",
    "\n",
    "             \n",
    "task = get_data(str(training_path / training_tasks[52]))\n",
    "check(task, task_train052)\n",
    "    "
   ],
   "metadata": {
    "collapsed": false,
    "pycharm": {
     "name": "#%%\n",
     "is_executing": false
    }
   }
  },
  {
   "cell_type": "code",
   "execution_count": 28,
   "outputs": [
    {
     "data": {
      "text/plain": "<Figure size 800x600 with 12 Axes>",
      "image/png": "[encoded data removed]"
     },
     "metadata": {
      "needs_background": "light"
     },
     "output_type": "display_data"
    }
   ],
   "source": [
    "def crop_to_content(x):\n",
    "    \"\"\" Crop an image to fit exactly the non 0 pixels \"\"\"\n",
    "    true_points = np.argwhere(x)\n",
    "    if len(true_points) == 0:\n",
    "        return []\n",
    "    top_left = true_points.min(axis=0)\n",
    "    bottom_right = true_points.max(axis=0)\n",
    "    x = x[top_left[0]:bottom_right[0]+1, top_left[1]:bottom_right[1]+1]\n",
    "    return [x]\n",
    "\n",
    "def task_train056(x):\n",
    "    y = x.copy()\n",
    "    y = crop_to_content(y)\n",
    "    return np.tile(y[0],(1,2))\n",
    "\n",
    "task = get_data(str(training_path / training_tasks[56]))\n",
    "check(task, task_train056)"
   ],
   "metadata": {
    "collapsed": false,
    "pycharm": {
     "name": "#%%\n",
     "is_executing": false
    }
   }
  },
  {
   "cell_type": "code",
   "execution_count": 114,
   "outputs": [
    {
     "name": "stdout",
     "text": [
      "splitH_lifted -> logical_xor -> repaint_lifted is a solution of the task: True\n"
     ],
     "output_type": "stream"
    }
   ],
   "source": [
    "# [np.array] -> bool\n",
    "def same_shape(x):\n",
    "    first_shape = x[0].shape\n",
    "    for pixmap in x[1:]:\n",
    "        if first_shape != pixmap.shape:\n",
    "            return False\n",
    "    return True\n",
    "\n",
    "# np.array -> [np.array]\n",
    "def splitH_unlifted(pixmap):\n",
    "    \"\"\" Split horizontally an image \"\"\"\n",
    "    h = pixmap.shape[0]\n",
    "    if h % 2 == 1:\n",
    "        h = h // 2\n",
    "        return [pixmap[:h,:], pixmap[h+1:,:]]\n",
    "    else:\n",
    "        h = h // 2\n",
    "        return [pixmap[:h,:], pixmap[h:,:]]\n",
    "    \n",
    "# np.array -> [np.array]\n",
    "def repaint_unlifted(pixmap):\n",
    "    \"\"\" Repaint all painted pixels. Returns a list of pixmaps, each painted with different a color \"\"\"\n",
    "    pixmaps = []\n",
    "    for color in range(1, len(color2num)):\n",
    "        aux = pixmap.copy()\n",
    "        aux[aux>0]=color\n",
    "        pixmaps.append(aux)\n",
    "    return pixmaps\n",
    "\n",
    "# [np.array] -> [np.array]\n",
    "def identity(x: [np.array]):\n",
    "    return x\n",
    "\n",
    "# [np.array] -> [np.array]\n",
    "def tail(x):\n",
    "    if len(x) > 1:\n",
    "        return x[1:]\n",
    "    else:\n",
    "        return x\n",
    "\n",
    "# [np.array] -> [np.array]\n",
    "def init(x):\n",
    "    if len(x) > 1:\n",
    "        return x[:1]\n",
    "    else:\n",
    "        return x\n",
    "\n",
    "# [np.array] -> [np.array]\n",
    "def logical_xor(x):\n",
    "    if len(x) < 2:\n",
    "        return x\n",
    "    if not same_shape(x):\n",
    "        return []\n",
    "    return [(np.logical_xor.reduce(np.array(x).astype(int)).astype(int))]\n",
    "\n",
    "    \n",
    "\n",
    "def show_image_list(images):\n",
    "    \"\"\" Show each image contained in a list. \"\"\"\n",
    "    p = plt.figure().subplots(1, len(images))\n",
    "    if len(images) > 1:\n",
    "        for i, image in enumerate(images):\n",
    "            p[i].imshow(image, cmap=cmap, norm=norm)\n",
    "    elif len(images) == 1:\n",
    "        p.imshow(images[0], cmap=cmap, norm=norm)\n",
    "\n",
    "\n",
    "def lift(fct):\n",
    "    \"\"\" Lift the function (see Monades) \"\"\"\n",
    "    def lifted_function(xs):\n",
    "        list_of_results = [fct(x) for x in xs]\n",
    "        return list(itertools.chain(*list_of_results))\n",
    "    import re\n",
    "    lifted_function.__name__ = re.sub('_unlifted$', '_lifted', fct.__name__)\n",
    "    return lifted_function\n",
    "\n",
    "splitH = lift(splitH_unlifted)\n",
    "repaint = lift(repaint_unlifted)\n",
    "\n",
    "task_file = str(training_path / training_tasks[235])\n",
    "with open(task_file, 'r') as f:\n",
    "    task = json.load(f)\n",
    "input_image = np.array(task['train'][0]['input'])\n",
    "\n",
    "def program_desc(program):\n",
    "    \"\"\" Create a human readable description of a program. \"\"\"\n",
    "    desc = [x.__name__ for x in program]\n",
    "    return' -> '.join(desc)\n",
    "\n",
    "def evaluate(program: [], input_image: np.array):\n",
    "    input_image = np.array(input_image)\n",
    "    assert type(input_image) == np.ndarray\n",
    "    \n",
    "    image_list = [input_image]\n",
    "    for fct in program:\n",
    "        image_list = fct(image_list)\n",
    "        image_list = [img for img in image_list if img.shape[0] > 0 and img.shape[1] > 0]\n",
    "        if image_list == []:\n",
    "            return []\n",
    "    return image_list \n",
    "\n",
    "def are_two_images_equals(a, b):\n",
    "    if tuple(a.shape) == tuple(b.shape):\n",
    "        if (np.abs(b-a) < 1).all():\n",
    "            return True\n",
    "    return False\n",
    "\n",
    "def is_solution(program, task):\n",
    "    for sample in task:\n",
    "        i = np.array(sample['input'])\n",
    "        o = np.array(sample['output'])\n",
    "\n",
    "        images = evaluate(program, i)\n",
    "        if len(images) < 1: return False\n",
    "        is_program_of_for_sample = any([are_two_images_equals(x, o) for x in images])\n",
    "        if not is_program_of_for_sample: return False\n",
    "    return True\n",
    "\n",
    "program = [splitH, logical_xor, repaint]\n",
    "print(program_desc(program),\"is a solution of the task:\", is_solution(program, task['train']))\n",
    "\n",
    "\n",
    "\n",
    "# plot_task(get_data(str(training_path / training_tasks[i])))"
   ],
   "metadata": {
    "collapsed": false,
    "pycharm": {
     "name": "#%%\n",
     "is_executing": false
    }
   }
  },
  {
   "cell_type": "code",
   "execution_count": 125,
   "outputs": [
    {
     "name": "stdout",
     "text": [
      "Fitness evaluation: (2.0, 0.0, 0.0, 0.0)\nCandidates nodes are: ['repaint_lifted', 'logical_xor', 'splitH_lifted']\n\nIteration  1\n----------\n",
      "Best candidates lenght: 3\nRandom candidate score: (2.0, 8.0, 0.0, 0.0)\nRandom candidate implementation: splitH_lifted\nIteration  2\n----------\n",
      "Best candidates lenght: 7\nRandom candidate score: (2.0, 8.0, 0.0, 0.0)\nRandom candidate implementation: splitH_lifted\nIteration  3\n----------\n",
      "\nFound program: splitH_lifted -> logical_xor -> repaint_lifted\n"
     ],
     "output_type": "stream"
    }
   ],
   "source": [
    "def width_fitness(predicted, expected_output):\n",
    "    \"\"\" How close the predicted image is to have the right width. Less is better.\"\"\"\n",
    "    return np.abs(predicted.shape[0] - expected_output.shape[0])\n",
    "\n",
    "def height_fitness(predicted, expected_output):\n",
    "    \"\"\" How close the predicted image is to have the right height. Less is better.\"\"\"\n",
    "    return np.abs(predicted.shape[1] - expected_output.shape[1])\n",
    "\n",
    "def activated_pixels_fitness(p, e):\n",
    "    \"\"\" How close the predicted image to have the right pixels. Less is better.\"\"\"\n",
    "    shape = (max(p.shape[0], e.shape[0]), max(p.shape[1], e.shape[1]))\n",
    "    diff = np.zeros(shape, dtype=int)\n",
    "    diff[0:p.shape[0], 0:p.shape[1]] = (p > 0).astype(int)\n",
    "    diff[0:e.shape[0], 0:e.shape[1]] -= (e > 0).astype(int)\n",
    "    return (diff != 0).sum()\n",
    "\n",
    "def colors_fitness(p, e):\n",
    "    p_colors = np.unique(p)\n",
    "    e_colors = np.unique(e)\n",
    "    nb_inter = len(np.intersect1d(p_colors, e_colors))\n",
    "    return (len(p_colors) - nb_inter) + (len(e_colors) - nb_inter)\n",
    "\n",
    "fitness_functions = [colors_fitness, activated_pixels_fitness, height_fitness, width_fitness]\n",
    "\n",
    "def product_less(a, b):\n",
    "    \"\"\" Return True iff the two tuples a and b respect a<b for the partial order. \"\"\"\n",
    "    a = np.array(a)\n",
    "    b = np.array(b)\n",
    "    return (np.array(a) < np.array(b)).all()\n",
    "    \n",
    "# ([[np.array] -> [np.array]], Taks) -> (int, int, ..., int)\n",
    "def evaluate_fitness(program, task):\n",
    "    \"\"\" Take a program and a task, and return its fitness score as a tuple. \"\"\"\n",
    "    score = np.zeros((len(fitness_functions)))\n",
    "    for sample in task:\n",
    "        i = np.array(sample['input'])\n",
    "        o = np.array(sample['output'])\n",
    "        for index, fitness_function in enumerate(fitness_functions):\n",
    "            images = evaluate(program, i)\n",
    "            if not images: # Penalize no prediction!\n",
    "                score[index] += 500\n",
    "            else: \n",
    "                score[index] = min([fitness_function(image, o) for image in images])\n",
    "    return tuple(score)\n",
    "\n",
    "print(\"Fitness evaluation:\", evaluate_fitness([splitH, logical_xor], task['train']))\n",
    "\n",
    "def build_candidates(allowed_nodes=[identity], best_candidates=[], nb_candidates=200):\n",
    "    \"\"\"\n",
    "    Create a poll of fresh candidates using the `allowed_nodes`.\n",
    "    The pool contain a mix of new single instructions programs\n",
    "    and mutations of the best candidates.\n",
    "    \"\"\"\n",
    "    new_candidates = []\n",
    "    program_length_limit = 4\n",
    "    \n",
    "    def random_node():\n",
    "        return random.choice(allowed_nodes)\n",
    "    \n",
    "    while len(new_candidates) < nb_candidates:\n",
    "        for i in range(5):\n",
    "            new_candidates += [[random_node()]]\n",
    "        \n",
    "        for best_program in best_candidates:\n",
    "            if len(best_program) < program_length_limit - 1:\n",
    "                new_candidates += [[random_node()] + best_program]\n",
    "            if len(best_program) < program_length_limit - 1:\n",
    "                new_candidates += [best_program + [random_node()]]\n",
    "            new_candidates += [list(best_program)]\n",
    "            new_candidates[-1][random.randrange(0, len(best_program))] = random_node()\n",
    "   \n",
    "    return new_candidates\n",
    "\n",
    "len(build_candidates(allowed_nodes=[identity], best_candidates=[[identity]], nb_candidates=42))\n",
    "\n",
    "def build_model(task, max_iterations=100, verbose=True):\n",
    "    candidates_nodes = [repaint, logical_xor, splitH]\n",
    "    \n",
    "    if verbose:\n",
    "        print(\"Candidates nodes are:\", [program_desc([n]) for n in candidates_nodes])\n",
    "        print()\n",
    "\n",
    "    best_candidates = {}\n",
    "    for i in range(max_iterations):\n",
    "        if verbose:\n",
    "            print(\"Iteration \", i+1)\n",
    "            print(\"-\" * 10)\n",
    "        \n",
    "        candidates = build_candidates(candidates_nodes, best_candidates.values())\n",
    "        \n",
    "        for candidate in candidates:\n",
    "            score = evaluate_fitness(candidate, task)\n",
    "            is_incomparable = True\n",
    "            \n",
    "            best_candidates_items = list(best_candidates.items())\n",
    "            for best_score, best_candidate in best_candidates_items:\n",
    "                if product_less(score, best_score):\n",
    "                    del best_candidates[best_score]\n",
    "                    best_candidates[score] = candidate\n",
    "                    is_incomparable = False \n",
    "                if product_less(best_score, score) or best_score == score:\n",
    "                    is_incomparable = False \n",
    "            if is_incomparable:\n",
    "                best_candidates[score] = candidate\n",
    "\n",
    "        for program in best_candidates.values():\n",
    "            if is_solution(program, task):\n",
    "                return program\n",
    "            \n",
    "        if verbose:\n",
    "            print(\"Best candidates lenght:\", len(best_candidates))\n",
    "            random_candidate_score = random.choice(list(best_candidates.keys()))\n",
    "            print(\"Random candidate score:\", random_candidate_score)\n",
    "            print(\"Random candidate implementation:\", program_desc(best_candidates[random_candidate_score]))\n",
    "    return None\n",
    "\n",
    "program = build_model(task['train'], verbose=True)\n",
    "\n",
    "print()\n",
    "if program is None:\n",
    "    print(\"No program was found\")\n",
    "else:\n",
    "    print(\"Found program:\", program_desc(program))"
   ],
   "metadata": {
    "collapsed": false,
    "pycharm": {
     "name": "#%%\n",
     "is_executing": false
    }
   }
  }
 ],
 "metadata": {
  "kernelspec": {
   "display_name": "Python 3",
   "language": "python",
   "name": "python3"
  },
  "language_info": {
   "codemirror_mode": {
    "name": "ipython",
    "version": 2
   },
   "file_extension": ".py",
   "mimetype": "text/x-python",
   "name": "python",
   "nbconvert_exporter": "python",
   "pygments_lexer": "ipython2",
   "version": "2.7.6"
  },
  "pycharm": {
   "stem_cell": {
    "cell_type": "raw",
    "source": [],
    "metadata": {
     "collapsed": false
    }
   }
  }
 },
 "nbformat": 4,
 "nbformat_minor": 0
}